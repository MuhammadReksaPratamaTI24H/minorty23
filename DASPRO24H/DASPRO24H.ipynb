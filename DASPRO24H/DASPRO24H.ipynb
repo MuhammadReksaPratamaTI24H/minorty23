{
 "cells": [
  {
   "cell_type": "markdown",
   "id": "ac999972",
   "metadata": {},
   "source": [
    "<center><img src=\"https://logos-world.net/wp-content/uploads/2021/10/Python-Logo.png\" width=\"200\"></center><br>\n",
    "pada jupyter notebooks jenis <b>cell</b> terbagi menjadi\n",
    "<ol>\n",
    "    <Li>M (Mark Down) ->M</Li>\n",
    "    <Li>Y (Code) -> Y</Li>\n",
    "<ol>\n",
    "<hr>\n",
    "                                                                                        "
   ]
  },
  {
   "cell_type": "markdown",
   "id": "3e737aa8",
   "metadata": {},
   "source": [
    "Cara menambahkan <b>cell</b>terbagi menjadi 2:\n",
    "<ul>\n",
    "    <Li>A -(Above) Menambah diatas cell aktif</Li>\n",
    "    <Li>B -(Below) Menambah dibawah cell aktif</Li>\n",
    "</ul>    "
   ]
  },
  {
   "cell_type": "markdown",
   "id": "5b0f7889",
   "metadata": {},
   "source": [
    "<table>\n",
    "    <tr>\n",
    "        <td>Perintah</td>\n",
    "        <td>Keterangan</td>\n",
    "    </tr>\n",
    "    <tr>\n",
    "        <td>ctrl + enter</td>\n",
    "        <td>Running program dengan fokus di cell aktif</td>\n",
    "    </tr>\n",
    "    <tr>\n",
    "        <td>shift + enter</td>\n",
    "        <td>Running Program dengan di cell berikutnya</td>\n",
    "    </tr>\n",
    " </table>   "
   ]
  },
  {
   "cell_type": "markdown",
   "id": "06971321",
   "metadata": {},
   "source": []
  },
  {
   "cell_type": "code",
   "execution_count": 1,
   "id": "398dd1ba",
   "metadata": {},
   "outputs": [
    {
     "name": "stdout",
     "output_type": "stream",
     "text": [
      "python is very easy\n",
      "4\n"
     ]
    },
    {
     "data": {
      "text/plain": [
       "6"
      ]
     },
     "execution_count": 1,
     "metadata": {},
     "output_type": "execute_result"
    }
   ],
   "source": [
    "\n",
    "# this is comment\n",
    "print(\"python is very easy\")\n",
    "data =\"4\"\n",
    "print(data)\n",
    "data\n",
    "3+3"
   ]
  },
  {
   "cell_type": "code",
   "execution_count": null,
   "id": "8a8e85c4",
   "metadata": {},
   "outputs": [],
   "source": []
  }
 ],
 "metadata": {
  "kernelspec": {
   "display_name": "Python 3 (ipykernel)",
   "language": "python",
   "name": "python3"
  },
  "language_info": {
   "codemirror_mode": {
    "name": "ipython",
    "version": 3
   },
   "file_extension": ".py",
   "mimetype": "text/x-python",
   "name": "python",
   "nbconvert_exporter": "python",
   "pygments_lexer": "ipython3",
   "version": "3.9.12"
  }
 },
 "nbformat": 4,
 "nbformat_minor": 5
}
